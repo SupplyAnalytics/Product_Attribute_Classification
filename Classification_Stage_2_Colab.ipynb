{
  "nbformat": 4,
  "nbformat_minor": 0,
  "metadata": {
    "colab": {
      "provenance": [],
      "mount_file_id": "15ZfueJmnuUH9vSsOKik1vdfKFtfydbR3",
      "authorship_tag": "ABX9TyPBtEtTfSc26DPldMlpQaUr",
      "include_colab_link": true
    },
    "kernelspec": {
      "name": "python3",
      "display_name": "Python 3"
    },
    "language_info": {
      "name": "python"
    }
  },
  "cells": [
    {
      "cell_type": "markdown",
      "metadata": {
        "id": "view-in-github",
        "colab_type": "text"
      },
      "source": [
        "<a href=\"https://colab.research.google.com/github/SupplyAnalytics/Product_Attribute_Classification/blob/main/Classification_Stage_2_Colab.ipynb\" target=\"_parent\"><img src=\"https://colab.research.google.com/assets/colab-badge.svg\" alt=\"Open In Colab\"/></a>"
      ]
    },
    {
      "cell_type": "code",
      "execution_count": null,
      "metadata": {
        "id": "JF_ih8-ctoby"
      },
      "outputs": [],
      "source": [
        "import pandas as pd\n",
        "import json\n",
        "import numpy as np"
      ]
    },
    {
      "cell_type": "code",
      "source": [
        "from google.colab import drive\n",
        "drive.mount('/content/drive')"
      ],
      "metadata": {
        "colab": {
          "base_uri": "https://localhost:8080/"
        },
        "id": "eCyFRMZK0Am8",
        "outputId": "801da8ac-0702-4abf-9a6a-c4049aafae9c"
      },
      "execution_count": 14,
      "outputs": [
        {
          "output_type": "stream",
          "name": "stdout",
          "text": [
            "Drive already mounted at /content/drive; to attempt to forcibly remount, call drive.mount(\"/content/drive\", force_remount=True).\n"
          ]
        }
      ]
    },
    {
      "cell_type": "code",
      "source": [
        "file_path = '/content/drive/MyDrive/Attributes_Classification/Vectors_Data/variants_image_vectors_1.json'\n",
        "data = pd.read_json(file_path)\n",
        "df = pd.DataFrame(data)\n",
        "df"
      ],
      "metadata": {
        "colab": {
          "base_uri": "https://localhost:8080/",
          "height": 790
        },
        "id": "wU8gleKl0v9K",
        "outputId": "060695c8-011d-4033-ea53-7192e44bb467"
      },
      "execution_count": 17,
      "outputs": [
        {
          "output_type": "execute_result",
          "data": {
            "text/plain": [
              "                                        _id  variantId   imageId  \\\n",
              "0      {'$oid': '66d6cad8a4f4eee1612c3b3b'}    1301614   7701539   \n",
              "1      {'$oid': '66d6cad8a4f4eee1612c3b3c'}    1301614   7701540   \n",
              "2      {'$oid': '66d6cad8a4f4eee1612c3b3d'}    1301614   7701541   \n",
              "3      {'$oid': '66d6cad983e88262c19f4428'}    1297020   8202734   \n",
              "4      {'$oid': '66d6cad983e88262c19f4429'}    1297020   8202735   \n",
              "...                                     ...        ...       ...   \n",
              "99995  {'$oid': '66d8a101a3bb8f9c46256622'}    2550564  25348386   \n",
              "99996  {'$oid': '66d8a102c9faa4fd2c1e8eb5'}    1336824   3293559   \n",
              "99997  {'$oid': '66d8a102c9faa4fd2c1e8eb6'}    1336824   3293560   \n",
              "99998  {'$oid': '66d8a102c9faa4fd2c1e8eb7'}    1336824   3293561   \n",
              "99999  {'$oid': '66d8a102c9faa4fd2c1e8eb8'}    1336824   3293562   \n",
              "\n",
              "                                                imageUrl  \\\n",
              "0      https://s3.amazonaws.com/shoekonnect/seller-bo...   \n",
              "1      https://s3.amazonaws.com/shoekonnect/seller-bo...   \n",
              "2      https://s3.amazonaws.com/shoekonnect/seller-bo...   \n",
              "3      https://s3.amazonaws.com/shoekonnect/seller-bo...   \n",
              "4      https://s3.amazonaws.com/shoekonnect/seller-bo...   \n",
              "...                                                  ...   \n",
              "99995  https://bijnis.s3.amazonaws.com/PRODUCTION/upl...   \n",
              "99996  https://s3.amazonaws.com/shoekonnect/seller-bo...   \n",
              "99997  https://s3.amazonaws.com/shoekonnect/seller-bo...   \n",
              "99998  https://s3.amazonaws.com/shoekonnect/seller-bo...   \n",
              "99999  https://s3.amazonaws.com/shoekonnect/seller-bo...   \n",
              "\n",
              "                                                  vector            createdOn  \n",
              "0      [0.0010934168240050001, 0.0, 0.207351282238960...  2024-09-03 14:07:44  \n",
              "1      [0.314278155565261, 0.0, 0.24758763611316603, ...  2024-09-03 14:07:44  \n",
              "2      [0.0, 0.022708222270011003, 0.0996573492884630...  2024-09-03 14:07:44  \n",
              "3      [0.043331049382686004, 0.001045480021275, 0.15...  2024-09-03 14:07:45  \n",
              "4      [0.0, 0.018341843038797, 0.20567613840103102, ...  2024-09-03 14:07:45  \n",
              "...                                                  ...                  ...  \n",
              "99995  [0.0, 0.0, 0.049881905317306005, 0.02340768277...  2024-09-04 23:33:45  \n",
              "99996  [0.0, 0.07852359861135401, 0.01015860680490700...  2024-09-04 23:33:46  \n",
              "99997  [0.0, 0.34925714135169905, 0.0, 0.000806341355...  2024-09-04 23:33:46  \n",
              "99998  [2.66233229637146, 0.0, 0.000738698581699, 0.1...  2024-09-04 23:33:46  \n",
              "99999  [0.0, 0.10687065124511701, 0.037112120538949, ...  2024-09-04 23:33:46  \n",
              "\n",
              "[100000 rows x 6 columns]"
            ],
            "text/html": [
              "\n",
              "  <div id=\"df-071149e5-6e36-4eaa-8ab0-1fbe978ab368\" class=\"colab-df-container\">\n",
              "    <div>\n",
              "<style scoped>\n",
              "    .dataframe tbody tr th:only-of-type {\n",
              "        vertical-align: middle;\n",
              "    }\n",
              "\n",
              "    .dataframe tbody tr th {\n",
              "        vertical-align: top;\n",
              "    }\n",
              "\n",
              "    .dataframe thead th {\n",
              "        text-align: right;\n",
              "    }\n",
              "</style>\n",
              "<table border=\"1\" class=\"dataframe\">\n",
              "  <thead>\n",
              "    <tr style=\"text-align: right;\">\n",
              "      <th></th>\n",
              "      <th>_id</th>\n",
              "      <th>variantId</th>\n",
              "      <th>imageId</th>\n",
              "      <th>imageUrl</th>\n",
              "      <th>vector</th>\n",
              "      <th>createdOn</th>\n",
              "    </tr>\n",
              "  </thead>\n",
              "  <tbody>\n",
              "    <tr>\n",
              "      <th>0</th>\n",
              "      <td>{'$oid': '66d6cad8a4f4eee1612c3b3b'}</td>\n",
              "      <td>1301614</td>\n",
              "      <td>7701539</td>\n",
              "      <td>https://s3.amazonaws.com/shoekonnect/seller-bo...</td>\n",
              "      <td>[0.0010934168240050001, 0.0, 0.207351282238960...</td>\n",
              "      <td>2024-09-03 14:07:44</td>\n",
              "    </tr>\n",
              "    <tr>\n",
              "      <th>1</th>\n",
              "      <td>{'$oid': '66d6cad8a4f4eee1612c3b3c'}</td>\n",
              "      <td>1301614</td>\n",
              "      <td>7701540</td>\n",
              "      <td>https://s3.amazonaws.com/shoekonnect/seller-bo...</td>\n",
              "      <td>[0.314278155565261, 0.0, 0.24758763611316603, ...</td>\n",
              "      <td>2024-09-03 14:07:44</td>\n",
              "    </tr>\n",
              "    <tr>\n",
              "      <th>2</th>\n",
              "      <td>{'$oid': '66d6cad8a4f4eee1612c3b3d'}</td>\n",
              "      <td>1301614</td>\n",
              "      <td>7701541</td>\n",
              "      <td>https://s3.amazonaws.com/shoekonnect/seller-bo...</td>\n",
              "      <td>[0.0, 0.022708222270011003, 0.0996573492884630...</td>\n",
              "      <td>2024-09-03 14:07:44</td>\n",
              "    </tr>\n",
              "    <tr>\n",
              "      <th>3</th>\n",
              "      <td>{'$oid': '66d6cad983e88262c19f4428'}</td>\n",
              "      <td>1297020</td>\n",
              "      <td>8202734</td>\n",
              "      <td>https://s3.amazonaws.com/shoekonnect/seller-bo...</td>\n",
              "      <td>[0.043331049382686004, 0.001045480021275, 0.15...</td>\n",
              "      <td>2024-09-03 14:07:45</td>\n",
              "    </tr>\n",
              "    <tr>\n",
              "      <th>4</th>\n",
              "      <td>{'$oid': '66d6cad983e88262c19f4429'}</td>\n",
              "      <td>1297020</td>\n",
              "      <td>8202735</td>\n",
              "      <td>https://s3.amazonaws.com/shoekonnect/seller-bo...</td>\n",
              "      <td>[0.0, 0.018341843038797, 0.20567613840103102, ...</td>\n",
              "      <td>2024-09-03 14:07:45</td>\n",
              "    </tr>\n",
              "    <tr>\n",
              "      <th>...</th>\n",
              "      <td>...</td>\n",
              "      <td>...</td>\n",
              "      <td>...</td>\n",
              "      <td>...</td>\n",
              "      <td>...</td>\n",
              "      <td>...</td>\n",
              "    </tr>\n",
              "    <tr>\n",
              "      <th>99995</th>\n",
              "      <td>{'$oid': '66d8a101a3bb8f9c46256622'}</td>\n",
              "      <td>2550564</td>\n",
              "      <td>25348386</td>\n",
              "      <td>https://bijnis.s3.amazonaws.com/PRODUCTION/upl...</td>\n",
              "      <td>[0.0, 0.0, 0.049881905317306005, 0.02340768277...</td>\n",
              "      <td>2024-09-04 23:33:45</td>\n",
              "    </tr>\n",
              "    <tr>\n",
              "      <th>99996</th>\n",
              "      <td>{'$oid': '66d8a102c9faa4fd2c1e8eb5'}</td>\n",
              "      <td>1336824</td>\n",
              "      <td>3293559</td>\n",
              "      <td>https://s3.amazonaws.com/shoekonnect/seller-bo...</td>\n",
              "      <td>[0.0, 0.07852359861135401, 0.01015860680490700...</td>\n",
              "      <td>2024-09-04 23:33:46</td>\n",
              "    </tr>\n",
              "    <tr>\n",
              "      <th>99997</th>\n",
              "      <td>{'$oid': '66d8a102c9faa4fd2c1e8eb6'}</td>\n",
              "      <td>1336824</td>\n",
              "      <td>3293560</td>\n",
              "      <td>https://s3.amazonaws.com/shoekonnect/seller-bo...</td>\n",
              "      <td>[0.0, 0.34925714135169905, 0.0, 0.000806341355...</td>\n",
              "      <td>2024-09-04 23:33:46</td>\n",
              "    </tr>\n",
              "    <tr>\n",
              "      <th>99998</th>\n",
              "      <td>{'$oid': '66d8a102c9faa4fd2c1e8eb7'}</td>\n",
              "      <td>1336824</td>\n",
              "      <td>3293561</td>\n",
              "      <td>https://s3.amazonaws.com/shoekonnect/seller-bo...</td>\n",
              "      <td>[2.66233229637146, 0.0, 0.000738698581699, 0.1...</td>\n",
              "      <td>2024-09-04 23:33:46</td>\n",
              "    </tr>\n",
              "    <tr>\n",
              "      <th>99999</th>\n",
              "      <td>{'$oid': '66d8a102c9faa4fd2c1e8eb8'}</td>\n",
              "      <td>1336824</td>\n",
              "      <td>3293562</td>\n",
              "      <td>https://s3.amazonaws.com/shoekonnect/seller-bo...</td>\n",
              "      <td>[0.0, 0.10687065124511701, 0.037112120538949, ...</td>\n",
              "      <td>2024-09-04 23:33:46</td>\n",
              "    </tr>\n",
              "  </tbody>\n",
              "</table>\n",
              "<p>100000 rows × 6 columns</p>\n",
              "</div>\n",
              "    <div class=\"colab-df-buttons\">\n",
              "\n",
              "  <div class=\"colab-df-container\">\n",
              "    <button class=\"colab-df-convert\" onclick=\"convertToInteractive('df-071149e5-6e36-4eaa-8ab0-1fbe978ab368')\"\n",
              "            title=\"Convert this dataframe to an interactive table.\"\n",
              "            style=\"display:none;\">\n",
              "\n",
              "  <svg xmlns=\"http://www.w3.org/2000/svg\" height=\"24px\" viewBox=\"0 -960 960 960\">\n",
              "    <path d=\"M120-120v-720h720v720H120Zm60-500h600v-160H180v160Zm220 220h160v-160H400v160Zm0 220h160v-160H400v160ZM180-400h160v-160H180v160Zm440 0h160v-160H620v160ZM180-180h160v-160H180v160Zm440 0h160v-160H620v160Z\"/>\n",
              "  </svg>\n",
              "    </button>\n",
              "\n",
              "  <style>\n",
              "    .colab-df-container {\n",
              "      display:flex;\n",
              "      gap: 12px;\n",
              "    }\n",
              "\n",
              "    .colab-df-convert {\n",
              "      background-color: #E8F0FE;\n",
              "      border: none;\n",
              "      border-radius: 50%;\n",
              "      cursor: pointer;\n",
              "      display: none;\n",
              "      fill: #1967D2;\n",
              "      height: 32px;\n",
              "      padding: 0 0 0 0;\n",
              "      width: 32px;\n",
              "    }\n",
              "\n",
              "    .colab-df-convert:hover {\n",
              "      background-color: #E2EBFA;\n",
              "      box-shadow: 0px 1px 2px rgba(60, 64, 67, 0.3), 0px 1px 3px 1px rgba(60, 64, 67, 0.15);\n",
              "      fill: #174EA6;\n",
              "    }\n",
              "\n",
              "    .colab-df-buttons div {\n",
              "      margin-bottom: 4px;\n",
              "    }\n",
              "\n",
              "    [theme=dark] .colab-df-convert {\n",
              "      background-color: #3B4455;\n",
              "      fill: #D2E3FC;\n",
              "    }\n",
              "\n",
              "    [theme=dark] .colab-df-convert:hover {\n",
              "      background-color: #434B5C;\n",
              "      box-shadow: 0px 1px 3px 1px rgba(0, 0, 0, 0.15);\n",
              "      filter: drop-shadow(0px 1px 2px rgba(0, 0, 0, 0.3));\n",
              "      fill: #FFFFFF;\n",
              "    }\n",
              "  </style>\n",
              "\n",
              "    <script>\n",
              "      const buttonEl =\n",
              "        document.querySelector('#df-071149e5-6e36-4eaa-8ab0-1fbe978ab368 button.colab-df-convert');\n",
              "      buttonEl.style.display =\n",
              "        google.colab.kernel.accessAllowed ? 'block' : 'none';\n",
              "\n",
              "      async function convertToInteractive(key) {\n",
              "        const element = document.querySelector('#df-071149e5-6e36-4eaa-8ab0-1fbe978ab368');\n",
              "        const dataTable =\n",
              "          await google.colab.kernel.invokeFunction('convertToInteractive',\n",
              "                                                    [key], {});\n",
              "        if (!dataTable) return;\n",
              "\n",
              "        const docLinkHtml = 'Like what you see? Visit the ' +\n",
              "          '<a target=\"_blank\" href=https://colab.research.google.com/notebooks/data_table.ipynb>data table notebook</a>'\n",
              "          + ' to learn more about interactive tables.';\n",
              "        element.innerHTML = '';\n",
              "        dataTable['output_type'] = 'display_data';\n",
              "        await google.colab.output.renderOutput(dataTable, element);\n",
              "        const docLink = document.createElement('div');\n",
              "        docLink.innerHTML = docLinkHtml;\n",
              "        element.appendChild(docLink);\n",
              "      }\n",
              "    </script>\n",
              "  </div>\n",
              "\n",
              "\n",
              "<div id=\"df-b5b39ee6-2446-4db3-80ec-4d0eedaf7f9c\">\n",
              "  <button class=\"colab-df-quickchart\" onclick=\"quickchart('df-b5b39ee6-2446-4db3-80ec-4d0eedaf7f9c')\"\n",
              "            title=\"Suggest charts\"\n",
              "            style=\"display:none;\">\n",
              "\n",
              "<svg xmlns=\"http://www.w3.org/2000/svg\" height=\"24px\"viewBox=\"0 0 24 24\"\n",
              "     width=\"24px\">\n",
              "    <g>\n",
              "        <path d=\"M19 3H5c-1.1 0-2 .9-2 2v14c0 1.1.9 2 2 2h14c1.1 0 2-.9 2-2V5c0-1.1-.9-2-2-2zM9 17H7v-7h2v7zm4 0h-2V7h2v10zm4 0h-2v-4h2v4z\"/>\n",
              "    </g>\n",
              "</svg>\n",
              "  </button>\n",
              "\n",
              "<style>\n",
              "  .colab-df-quickchart {\n",
              "      --bg-color: #E8F0FE;\n",
              "      --fill-color: #1967D2;\n",
              "      --hover-bg-color: #E2EBFA;\n",
              "      --hover-fill-color: #174EA6;\n",
              "      --disabled-fill-color: #AAA;\n",
              "      --disabled-bg-color: #DDD;\n",
              "  }\n",
              "\n",
              "  [theme=dark] .colab-df-quickchart {\n",
              "      --bg-color: #3B4455;\n",
              "      --fill-color: #D2E3FC;\n",
              "      --hover-bg-color: #434B5C;\n",
              "      --hover-fill-color: #FFFFFF;\n",
              "      --disabled-bg-color: #3B4455;\n",
              "      --disabled-fill-color: #666;\n",
              "  }\n",
              "\n",
              "  .colab-df-quickchart {\n",
              "    background-color: var(--bg-color);\n",
              "    border: none;\n",
              "    border-radius: 50%;\n",
              "    cursor: pointer;\n",
              "    display: none;\n",
              "    fill: var(--fill-color);\n",
              "    height: 32px;\n",
              "    padding: 0;\n",
              "    width: 32px;\n",
              "  }\n",
              "\n",
              "  .colab-df-quickchart:hover {\n",
              "    background-color: var(--hover-bg-color);\n",
              "    box-shadow: 0 1px 2px rgba(60, 64, 67, 0.3), 0 1px 3px 1px rgba(60, 64, 67, 0.15);\n",
              "    fill: var(--button-hover-fill-color);\n",
              "  }\n",
              "\n",
              "  .colab-df-quickchart-complete:disabled,\n",
              "  .colab-df-quickchart-complete:disabled:hover {\n",
              "    background-color: var(--disabled-bg-color);\n",
              "    fill: var(--disabled-fill-color);\n",
              "    box-shadow: none;\n",
              "  }\n",
              "\n",
              "  .colab-df-spinner {\n",
              "    border: 2px solid var(--fill-color);\n",
              "    border-color: transparent;\n",
              "    border-bottom-color: var(--fill-color);\n",
              "    animation:\n",
              "      spin 1s steps(1) infinite;\n",
              "  }\n",
              "\n",
              "  @keyframes spin {\n",
              "    0% {\n",
              "      border-color: transparent;\n",
              "      border-bottom-color: var(--fill-color);\n",
              "      border-left-color: var(--fill-color);\n",
              "    }\n",
              "    20% {\n",
              "      border-color: transparent;\n",
              "      border-left-color: var(--fill-color);\n",
              "      border-top-color: var(--fill-color);\n",
              "    }\n",
              "    30% {\n",
              "      border-color: transparent;\n",
              "      border-left-color: var(--fill-color);\n",
              "      border-top-color: var(--fill-color);\n",
              "      border-right-color: var(--fill-color);\n",
              "    }\n",
              "    40% {\n",
              "      border-color: transparent;\n",
              "      border-right-color: var(--fill-color);\n",
              "      border-top-color: var(--fill-color);\n",
              "    }\n",
              "    60% {\n",
              "      border-color: transparent;\n",
              "      border-right-color: var(--fill-color);\n",
              "    }\n",
              "    80% {\n",
              "      border-color: transparent;\n",
              "      border-right-color: var(--fill-color);\n",
              "      border-bottom-color: var(--fill-color);\n",
              "    }\n",
              "    90% {\n",
              "      border-color: transparent;\n",
              "      border-bottom-color: var(--fill-color);\n",
              "    }\n",
              "  }\n",
              "</style>\n",
              "\n",
              "  <script>\n",
              "    async function quickchart(key) {\n",
              "      const quickchartButtonEl =\n",
              "        document.querySelector('#' + key + ' button');\n",
              "      quickchartButtonEl.disabled = true;  // To prevent multiple clicks.\n",
              "      quickchartButtonEl.classList.add('colab-df-spinner');\n",
              "      try {\n",
              "        const charts = await google.colab.kernel.invokeFunction(\n",
              "            'suggestCharts', [key], {});\n",
              "      } catch (error) {\n",
              "        console.error('Error during call to suggestCharts:', error);\n",
              "      }\n",
              "      quickchartButtonEl.classList.remove('colab-df-spinner');\n",
              "      quickchartButtonEl.classList.add('colab-df-quickchart-complete');\n",
              "    }\n",
              "    (() => {\n",
              "      let quickchartButtonEl =\n",
              "        document.querySelector('#df-b5b39ee6-2446-4db3-80ec-4d0eedaf7f9c button');\n",
              "      quickchartButtonEl.style.display =\n",
              "        google.colab.kernel.accessAllowed ? 'block' : 'none';\n",
              "    })();\n",
              "  </script>\n",
              "</div>\n",
              "\n",
              "  <div id=\"id_1f6438f3-d58c-4d26-b602-4b5c6a76705e\">\n",
              "    <style>\n",
              "      .colab-df-generate {\n",
              "        background-color: #E8F0FE;\n",
              "        border: none;\n",
              "        border-radius: 50%;\n",
              "        cursor: pointer;\n",
              "        display: none;\n",
              "        fill: #1967D2;\n",
              "        height: 32px;\n",
              "        padding: 0 0 0 0;\n",
              "        width: 32px;\n",
              "      }\n",
              "\n",
              "      .colab-df-generate:hover {\n",
              "        background-color: #E2EBFA;\n",
              "        box-shadow: 0px 1px 2px rgba(60, 64, 67, 0.3), 0px 1px 3px 1px rgba(60, 64, 67, 0.15);\n",
              "        fill: #174EA6;\n",
              "      }\n",
              "\n",
              "      [theme=dark] .colab-df-generate {\n",
              "        background-color: #3B4455;\n",
              "        fill: #D2E3FC;\n",
              "      }\n",
              "\n",
              "      [theme=dark] .colab-df-generate:hover {\n",
              "        background-color: #434B5C;\n",
              "        box-shadow: 0px 1px 3px 1px rgba(0, 0, 0, 0.15);\n",
              "        filter: drop-shadow(0px 1px 2px rgba(0, 0, 0, 0.3));\n",
              "        fill: #FFFFFF;\n",
              "      }\n",
              "    </style>\n",
              "    <button class=\"colab-df-generate\" onclick=\"generateWithVariable('df')\"\n",
              "            title=\"Generate code using this dataframe.\"\n",
              "            style=\"display:none;\">\n",
              "\n",
              "  <svg xmlns=\"http://www.w3.org/2000/svg\" height=\"24px\"viewBox=\"0 0 24 24\"\n",
              "       width=\"24px\">\n",
              "    <path d=\"M7,19H8.4L18.45,9,17,7.55,7,17.6ZM5,21V16.75L18.45,3.32a2,2,0,0,1,2.83,0l1.4,1.43a1.91,1.91,0,0,1,.58,1.4,1.91,1.91,0,0,1-.58,1.4L9.25,21ZM18.45,9,17,7.55Zm-12,3A5.31,5.31,0,0,0,4.9,8.1,5.31,5.31,0,0,0,1,6.5,5.31,5.31,0,0,0,4.9,4.9,5.31,5.31,0,0,0,6.5,1,5.31,5.31,0,0,0,8.1,4.9,5.31,5.31,0,0,0,12,6.5,5.46,5.46,0,0,0,6.5,12Z\"/>\n",
              "  </svg>\n",
              "    </button>\n",
              "    <script>\n",
              "      (() => {\n",
              "      const buttonEl =\n",
              "        document.querySelector('#id_1f6438f3-d58c-4d26-b602-4b5c6a76705e button.colab-df-generate');\n",
              "      buttonEl.style.display =\n",
              "        google.colab.kernel.accessAllowed ? 'block' : 'none';\n",
              "\n",
              "      buttonEl.onclick = () => {\n",
              "        google.colab.notebook.generateWithVariable('df');\n",
              "      }\n",
              "      })();\n",
              "    </script>\n",
              "  </div>\n",
              "\n",
              "    </div>\n",
              "  </div>\n"
            ],
            "application/vnd.google.colaboratory.intrinsic+json": {
              "type": "dataframe",
              "variable_name": "df",
              "summary": "{\n  \"name\": \"df\",\n  \"rows\": 100000,\n  \"fields\": [\n    {\n      \"column\": \"_id\",\n      \"properties\": {\n        \"dtype\": \"object\",\n        \"semantic_type\": \"\",\n        \"description\": \"\"\n      }\n    },\n    {\n      \"column\": \"variantId\",\n      \"properties\": {\n        \"dtype\": \"number\",\n        \"std\": 472526,\n        \"min\": 1000681,\n        \"max\": 2625383,\n        \"num_unique_values\": 25260,\n        \"samples\": [\n          2449826,\n          1994072,\n          1310133\n        ],\n        \"semantic_type\": \"\",\n        \"description\": \"\"\n      }\n    },\n    {\n      \"column\": \"imageId\",\n      \"properties\": {\n        \"dtype\": \"number\",\n        \"std\": 8437560,\n        \"min\": 12772,\n        \"max\": 26475360,\n        \"num_unique_values\": 100000,\n        \"samples\": [\n          10369533,\n          8286254,\n          759486\n        ],\n        \"semantic_type\": \"\",\n        \"description\": \"\"\n      }\n    },\n    {\n      \"column\": \"imageUrl\",\n      \"properties\": {\n        \"dtype\": \"string\",\n        \"num_unique_values\": 99429,\n        \"samples\": [\n          \"https://bijnis.s3.amazonaws.com/PRODUCTION/uploads/uploadfile_1-86ea12c2-a856-4449-ad55-cf80ca088a01.jpeg\",\n          \"https://shoekonnect.s3.amazonaws.com/PRODUCTION/seller-board/26-09-2021/615076547e70f.jpeg\",\n          \"https://bijnis.s3.amazonaws.com/PRODUCTION/uploads/uploadfile_2-4e7b0e8c-11db-40fd-a8c4-d8c4b40cb92c.jpeg\"\n        ],\n        \"semantic_type\": \"\",\n        \"description\": \"\"\n      }\n    },\n    {\n      \"column\": \"vector\",\n      \"properties\": {\n        \"dtype\": \"object\",\n        \"semantic_type\": \"\",\n        \"description\": \"\"\n      }\n    },\n    {\n      \"column\": \"createdOn\",\n      \"properties\": {\n        \"dtype\": \"object\",\n        \"num_unique_values\": 21446,\n        \"samples\": [\n          \"2024-09-04 20:43:10\",\n          \"2024-09-04 22:04:00\",\n          \"2024-09-04 00:27:02\"\n        ],\n        \"semantic_type\": \"\",\n        \"description\": \"\"\n      }\n    }\n  ]\n}"
            }
          },
          "metadata": {},
          "execution_count": 17
        }
      ]
    },
    {
      "cell_type": "code",
      "source": [
        "import os"
      ],
      "metadata": {
        "id": "Y881bnYCEo9j"
      },
      "execution_count": 18,
      "outputs": []
    },
    {
      "cell_type": "code",
      "source": [
        "!git clone https://github.com/SupplyAnalytics/Product_Attribute_Classification.git"
      ],
      "metadata": {
        "colab": {
          "base_uri": "https://localhost:8080/"
        },
        "id": "bMhHF3LjEufj",
        "outputId": "025e8599-d4be-4449-a068-81b542f451fc"
      },
      "execution_count": 19,
      "outputs": [
        {
          "output_type": "stream",
          "name": "stdout",
          "text": [
            "Cloning into 'Product_Attribute_Classification'...\n",
            "remote: Enumerating objects: 85, done.\u001b[K\n",
            "remote: Total 85 (delta 0), reused 0 (delta 0), pack-reused 85 (from 1)\u001b[K\n",
            "Receiving objects: 100% (85/85), 26.37 MiB | 19.53 MiB/s, done.\n",
            "Resolving deltas: 100% (24/24), done.\n"
          ]
        }
      ]
    },
    {
      "cell_type": "code",
      "source": [
        "!git --version"
      ],
      "metadata": {
        "colab": {
          "base_uri": "https://localhost:8080/"
        },
        "id": "t4M4ieTvGHpq",
        "outputId": "f7c1589b-8f1c-465f-b56a-54ad2b6f2542"
      },
      "execution_count": 30,
      "outputs": [
        {
          "output_type": "stream",
          "name": "stdout",
          "text": [
            "git version 2.34.1\n"
          ]
        }
      ]
    },
    {
      "cell_type": "code",
      "source": [
        "!ls"
      ],
      "metadata": {
        "colab": {
          "base_uri": "https://localhost:8080/"
        },
        "id": "PxNfcIrXG31q",
        "outputId": "aff3a8d7-7360-4599-d508-e364b3531a1c"
      },
      "execution_count": 31,
      "outputs": [
        {
          "output_type": "stream",
          "name": "stdout",
          "text": [
            "drive  Product_Attribute_Classification  sample_data\n"
          ]
        }
      ]
    },
    {
      "cell_type": "code",
      "source": [
        "%cd content"
      ],
      "metadata": {
        "colab": {
          "base_uri": "https://localhost:8080/"
        },
        "id": "1WQnjYQKG9l7",
        "outputId": "44ab3680-49bc-4cbd-c69a-5e3dc657cad0"
      },
      "execution_count": 38,
      "outputs": [
        {
          "output_type": "stream",
          "name": "stdout",
          "text": [
            "/content\n"
          ]
        }
      ]
    },
    {
      "cell_type": "code",
      "source": [
        "%cd Product_Attribute_Classification"
      ],
      "metadata": {
        "colab": {
          "base_uri": "https://localhost:8080/"
        },
        "id": "iy9BYzoPH9So",
        "outputId": "c8fbecef-2652-43c5-bc7c-a21777a4877f"
      },
      "execution_count": 39,
      "outputs": [
        {
          "output_type": "stream",
          "name": "stdout",
          "text": [
            "/content/Product_Attribute_Classification\n"
          ]
        }
      ]
    },
    {
      "cell_type": "code",
      "source": [
        "!git status"
      ],
      "metadata": {
        "colab": {
          "base_uri": "https://localhost:8080/"
        },
        "id": "HgVlLRbzIApi",
        "outputId": "09ae640d-63ec-402b-bb56-dab800279de9"
      },
      "execution_count": 41,
      "outputs": [
        {
          "output_type": "stream",
          "name": "stdout",
          "text": [
            "On branch main\n",
            "Your branch is up to date with 'origin/main'.\n",
            "\n",
            "nothing to commit, working tree clean\n"
          ]
        }
      ]
    },
    {
      "cell_type": "code",
      "source": [
        "!git status"
      ],
      "metadata": {
        "colab": {
          "base_uri": "https://localhost:8080/"
        },
        "id": "AHBRl1M_IaEd",
        "outputId": "f20192b3-6e78-454f-ed12-96b5545693bb"
      },
      "execution_count": 42,
      "outputs": [
        {
          "output_type": "stream",
          "name": "stdout",
          "text": [
            "On branch main\n",
            "Your branch is up to date with 'origin/main'.\n",
            "\n",
            "nothing to commit, working tree clean\n"
          ]
        }
      ]
    },
    {
      "cell_type": "code",
      "source": [],
      "metadata": {
        "id": "1Y8Ndob0Jej6"
      },
      "execution_count": null,
      "outputs": []
    }
  ]
}