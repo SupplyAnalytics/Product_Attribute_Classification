{
  "nbformat": 4,
  "nbformat_minor": 0,
  "metadata": {
    "colab": {
      "provenance": [],
      "authorship_tag": "ABX9TyPaX0iLeWJWDycs2ymfdaOf",
      "include_colab_link": true
    },
    "kernelspec": {
      "name": "python3",
      "display_name": "Python 3"
    },
    "language_info": {
      "name": "python"
    }
  },
  "cells": [
    {
      "cell_type": "markdown",
      "metadata": {
        "id": "view-in-github",
        "colab_type": "text"
      },
      "source": [
        "<a href=\"https://colab.research.google.com/github/SupplyAnalytics/Product_Attribute_Classification/blob/main/Colab_Classification_Stage.ipynb\" target=\"_parent\"><img src=\"https://colab.research.google.com/assets/colab-badge.svg\" alt=\"Open In Colab\"/></a>"
      ]
    },
    {
      "cell_type": "code",
      "execution_count": 2,
      "metadata": {
        "id": "JvVXfYYPUCcU"
      },
      "outputs": [],
      "source": [
        "import os"
      ]
    },
    {
      "cell_type": "code",
      "source": [
        "# Store your GitHub PAT securely\n",
        "import getpass\n",
        "\n",
        "token = getpass.getpass(\"Enter your GitHub PAT: \")\n",
        "\n",
        "# Push changes using the PAT\n",
        "!git remote set-url origin https://{token}@github.com//SupplyAnalytics/Product_Attribute_Classification.git\n",
        "!git push origin main\n"
      ],
      "metadata": {
        "colab": {
          "base_uri": "https://localhost:8080/"
        },
        "id": "yJdywR-SUMcj",
        "outputId": "89fb4643-fded-4e93-9ec8-f5de60c65691"
      },
      "execution_count": 3,
      "outputs": [
        {
          "output_type": "stream",
          "name": "stdout",
          "text": [
            "Enter your GitHub PAT: ··········\n",
            "fatal: not a git repository (or any of the parent directories): .git\n",
            "fatal: not a git repository (or any of the parent directories): .git\n"
          ]
        }
      ]
    },
    {
      "cell_type": "code",
      "source": [
        "%cd ..\n"
      ],
      "metadata": {
        "colab": {
          "base_uri": "https://localhost:8080/"
        },
        "id": "fdOk_HmgUeTk",
        "outputId": "cbfe6857-53a4-4038-bde5-76449cec078d"
      },
      "execution_count": 6,
      "outputs": [
        {
          "output_type": "stream",
          "name": "stdout",
          "text": [
            "/\n"
          ]
        }
      ]
    },
    {
      "cell_type": "code",
      "source": [
        "!git clone https://github.com/SupplyAnalytics/Product_Attribute_Classification.git"
      ],
      "metadata": {
        "colab": {
          "base_uri": "https://localhost:8080/"
        },
        "id": "pYtCcOB5Uhic",
        "outputId": "139c1946-221f-48e7-c09d-ebe0ddd61465"
      },
      "execution_count": 7,
      "outputs": [
        {
          "output_type": "stream",
          "name": "stdout",
          "text": [
            "Cloning into 'Product_Attribute_Classification'...\n",
            "remote: Enumerating objects: 98, done.\u001b[K\n",
            "remote: Counting objects: 100% (13/13), done.\u001b[K\n",
            "remote: Compressing objects: 100% (12/12), done.\u001b[K\n",
            "remote: Total 98 (delta 2), reused 8 (delta 1), pack-reused 85 (from 1)\u001b[K\n",
            "Receiving objects: 100% (98/98), 32.67 MiB | 14.03 MiB/s, done.\n",
            "Resolving deltas: 100% (26/26), done.\n"
          ]
        }
      ]
    },
    {
      "cell_type": "code",
      "source": [
        "!ls"
      ],
      "metadata": {
        "colab": {
          "base_uri": "https://localhost:8080/"
        },
        "id": "a9L5gsNcU4_W",
        "outputId": "8463ec85-7f54-4aaa-91af-150dc61b5f5a"
      },
      "execution_count": 10,
      "outputs": [
        {
          "output_type": "stream",
          "name": "stdout",
          "text": [
            "bin\t\t\t    etc     media\t\t\t      python-apt\t sys\n",
            "boot\t\t\t    home    mnt\t\t\t\t      python-apt.tar.xz  tmp\n",
            "content\t\t\t    lib     NGC-DL-CONTAINER-LICENSE\t      root\t\t tools\n",
            "cuda-keyring_1.0-1_all.deb  lib32   opt\t\t\t\t      run\t\t usr\n",
            "datalab\t\t\t    lib64   proc\t\t\t      sbin\t\t var\n",
            "dev\t\t\t    libx32  Product_Attribute_Classification  srv\n"
          ]
        }
      ]
    },
    {
      "cell_type": "code",
      "source": [
        "%cd content"
      ],
      "metadata": {
        "colab": {
          "base_uri": "https://localhost:8080/"
        },
        "id": "CfYos0HZU8lu",
        "outputId": "6c8da3bb-70ae-422d-a50b-9f6014cd1109"
      },
      "execution_count": 11,
      "outputs": [
        {
          "output_type": "stream",
          "name": "stdout",
          "text": [
            "/content\n"
          ]
        }
      ]
    },
    {
      "cell_type": "code",
      "source": [
        "%cd .."
      ],
      "metadata": {
        "colab": {
          "base_uri": "https://localhost:8080/"
        },
        "id": "ZYwgkMuLXvBU",
        "outputId": "10b62415-fdca-46bd-ec57-1409a953890d"
      },
      "execution_count": 13,
      "outputs": [
        {
          "output_type": "stream",
          "name": "stdout",
          "text": [
            "/\n"
          ]
        }
      ]
    },
    {
      "cell_type": "code",
      "source": [
        "%cd Product_Attribute_Classification"
      ],
      "metadata": {
        "colab": {
          "base_uri": "https://localhost:8080/"
        },
        "id": "ZTKlrDaXXyl6",
        "outputId": "e4fa5610-1d5c-466e-92f4-a36d788a8b0f"
      },
      "execution_count": 14,
      "outputs": [
        {
          "output_type": "stream",
          "name": "stdout",
          "text": [
            "/Product_Attribute_Classification\n"
          ]
        }
      ]
    },
    {
      "cell_type": "code",
      "source": [
        "!git status"
      ],
      "metadata": {
        "colab": {
          "base_uri": "https://localhost:8080/"
        },
        "id": "i0Jmc0QIX9wC",
        "outputId": "45f9aed7-e122-439e-b8e5-aeb6af2b76a4"
      },
      "execution_count": 15,
      "outputs": [
        {
          "output_type": "stream",
          "name": "stdout",
          "text": [
            "On branch main\n",
            "Your branch is up to date with 'origin/main'.\n",
            "\n",
            "nothing to commit, working tree clean\n"
          ]
        }
      ]
    },
    {
      "cell_type": "code",
      "source": [],
      "metadata": {
        "id": "cEEQMnEuYCHs"
      },
      "execution_count": null,
      "outputs": []
    }
  ]
}