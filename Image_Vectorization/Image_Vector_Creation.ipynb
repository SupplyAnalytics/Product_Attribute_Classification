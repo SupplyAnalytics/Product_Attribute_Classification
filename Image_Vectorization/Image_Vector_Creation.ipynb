{
 "cells": [
  {
   "cell_type": "code",
   "execution_count": 1,
   "metadata": {},
   "outputs": [],
   "source": [
    "import os\n",
    "import numpy as np\n",
    "import pandas as pd\n",
    "from tensorflow import keras\n",
    "from keras.applications import MobileNetV2\n",
    "from keras.preprocessing.image import load_img, img_to_array\n",
    "from keras.models import Model\n",
    "from sklearn.metrics.pairwise import cosine_similarity "
   ]
  },
  {
   "cell_type": "code",
   "execution_count": 2,
   "metadata": {},
   "outputs": [],
   "source": [
    "def extract_feature_vector_v3(image_file):\n",
    "    \n",
    "    base_model = MobileNetV2(weights='imagenet', include_top=False, input_shape=(512, 512, 3), pooling='avg')\n",
    "    model = tf.keras.Model(inputs=base_model.input, outputs=base_model.output)\n",
    "\n",
    "    try:\n",
    "        image_data = BytesIO(image_file.read())  # Read file-like object\n",
    "        img = Image.open(image_data)\n",
    "        \n",
    "    except UnidentifiedImageError:\n",
    "        st.error(\"The uploaded file is not a valid image. Please upload a valid image file.\")\n",
    "        return None\n",
    "\n",
    "    # Convert image to JPEG if not already\n",
    "    if img.format != 'JPEG':\n",
    "        img = img.convert(\"RGB\")  # Convert to RGB for JPEG compatibility\n",
    "        image_data = BytesIO()  # Reset the file-like object\n",
    "        img.save(image_data, format='JPEG')  # Save as JPEG\n",
    "        image_data.seek(0)  # Reset the pointer to the beginning\n",
    "\n",
    "    img = img.resize((512, 512))  # Resize to 512x512 images\n",
    "    img_array = img_to_array(img)\n",
    "    if img_array.shape != (512, 512, 3):\n",
    "        st.error(\"Image has incorrect shape.\")\n",
    "        return None\n",
    "    img_array = np.expand_dims(img_array, axis=0)  # Add batch dimension\n",
    "    img_array = tf.keras.applications.mobilenet_v2.preprocess_input(img_array)  # Preprocess for MobileNetV2\n",
    "\n",
    "    if img_array.dtype != np.float32:\n",
    "        st.error(\"Input data type is not float32.\")\n",
    "        return None\n",
    "\n",
    "    feature_vector = model.predict(img_array).flatten()  # Flatten to get a 1D vector\n",
    "    return feature_vector"
   ]
  },
  {
   "cell_type": "code",
   "execution_count": null,
   "metadata": {},
   "outputs": [],
   "source": []
  }
 ],
 "metadata": {
  "kernelspec": {
   "display_name": "my_env",
   "language": "python",
   "name": "python3"
  },
  "language_info": {
   "codemirror_mode": {
    "name": "ipython",
    "version": 3
   },
   "file_extension": ".py",
   "mimetype": "text/x-python",
   "name": "python",
   "nbconvert_exporter": "python",
   "pygments_lexer": "ipython3",
   "version": "3.8.17"
  }
 },
 "nbformat": 4,
 "nbformat_minor": 2
}
